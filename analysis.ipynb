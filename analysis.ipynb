{
 "cells": [
  {
   "cell_type": "markdown",
   "id": "0d32a93e",
   "metadata": {},
   "source": [
    "# Supply Data Analysis"
   ]
  },
  {
   "cell_type": "markdown",
   "id": "5109a255",
   "metadata": {},
   "source": [
    "## Business Objectives\n"
   ]
  },
  {
   "cell_type": "markdown",
   "id": "93356b42",
   "metadata": {},
   "source": [
    "Important part of our business is a supply/demand balance. We can’t control demand but we can shift some supply to necessary hours to cover more demand during peaks.\n",
    "\n",
    "As part of the task you will have sample supply and demand data over a few weeks in a single city a few weeks after launch.\n",
    "\n",
    "#### We need to understand:\n",
    "- What is the supply to demand dynamic and whether they match?\n",
    "- Where are the hours of oversupply? Can we shift some of them to undersupply hours?"
   ]
  },
  {
   "cell_type": "markdown",
   "id": "1a3304e7",
   "metadata": {},
   "source": [
    "## Data understanding"
   ]
  },
  {
   "cell_type": "markdown",
   "id": "23431a67",
   "metadata": {},
   "source": [
    "#### Hourly driver activity:\n",
    "- Date – date + hour for which the row of data is presented\n",
    "- Active drivers – number of active drivers (any level of activity) available during time period\n",
    "- Online (h) – total supply hours that were available during time period\n",
    "- Has booking (h) – total hours during which drivers had a client booking (any state)\n",
    "- Waiting for booking (h) – total hours which drivers spent waiting for booking\n",
    "- Busy (h) – total hours which drivers were not available to take orders in\n",
    "- Hours per active driver – aka HPA - average number of hours each driver was online during time period\n",
    "- Rides per online hour – aka RPH – avg. finished trips per online hour during period\n",
    "- Finished Rides – number of finished trips during period\n",
    "\n",
    "#### Hourly Overview Search:\n",
    "- Date – date + hour for which the row of data is presented\n",
    "- People saw 0 cars (unique) – number of users who didn’t not see a car.\n",
    "- People saw +1 cars (unique) – number of users who saw a car.\n",
    "- Coverage Ratio (unique) – % of users who saw the car."
   ]
  },
  {
   "cell_type": "markdown",
   "id": "27a08174",
   "metadata": {},
   "source": [
    "## Import Required Library"
   ]
  },
  {
   "cell_type": "code",
   "execution_count": null,
   "id": "80203c79",
   "metadata": {},
   "outputs": [],
   "source": [
    "import pandas as pd\n",
    "import numpy as np\n",
    "import matplotlib.pyplot as plt\n",
    "import seaborn as sns\n",
    "import datetime as dt\n",
    "import plotly.express as px"
   ]
  },
  {
   "cell_type": "markdown",
   "id": "ead2cbfd",
   "metadata": {},
   "source": [
    "## Data Sourcing Cleaning and Preparation"
   ]
  },
  {
   "cell_type": "markdown",
   "id": "a6cfe63d",
   "metadata": {},
   "source": [
    "### Supply data info: Hourly Driver Activity"
   ]
  },
  {
   "cell_type": "code",
   "execution_count": null,
   "id": "96ee7b4f",
   "metadata": {},
   "outputs": [],
   "source": [
    "driver_activity = pd.read_csv('Hourly_DriverActivity_1.csv')\n",
    "driver_activity.head()"
   ]
  },
  {
   "cell_type": "code",
   "execution_count": null,
   "id": "f3b32bdd",
   "metadata": {},
   "outputs": [],
   "source": [
    "# checking the shape i.e row and column\n",
    "driver_activity.shape"
   ]
  },
  {
   "cell_type": "code",
   "execution_count": null,
   "id": "2813ecd9",
   "metadata": {},
   "outputs": [],
   "source": [
    "overview_search = pd.read_csv('Hourly_OverviewSearch_1.csv')\n",
    "overview_search.head()"
   ]
  },
  {
   "cell_type": "code",
   "execution_count": null,
   "id": "91e7d585",
   "metadata": {},
   "outputs": [],
   "source": [
    "# checking the shape i.e row and column\n",
    "overview_search.shape"
   ]
  },
  {
   "cell_type": "code",
   "execution_count": null,
   "id": "51be670a",
   "metadata": {},
   "outputs": [],
   "source": [
    "# Joining Dataframes\n",
    "drivers_and_users_merge = pd.merge(driver_activity, overview_search, how='left', left_on = 'Date', right_on = 'Date')\n",
    "drivers_and_users_merge.head()\n"
   ]
  },
  {
   "cell_type": "code",
   "execution_count": null,
   "id": "e960b219",
   "metadata": {
    "scrolled": true
   },
   "outputs": [],
   "source": [
    "#Rename columns\n",
    "drivers_and_users = drivers_and_users_merge.rename(columns={\"Active drivers\":\"Demand\", \n",
    "                                  \"Online (h)\": \"Online\", \n",
    "                                  \"Has booking (h)\": \"Has_booking\", \n",
    "                                  \"Waiting for booking (h)\": \"Waiting_for_booking\", \n",
    "                                  \"Busy (h)\": \"Busy\",\n",
    "                                  \"Hours per active driver\": \"HPA\",\n",
    "                                  \"Rides per online hour\": \"RPH\",\n",
    "                                  \"Finished Rides\": \"Finished_Rides\",\n",
    "                                  \"Coverage Ratio (unique)\": \"Coverage_Ratio\",\n",
    "                                  \n",
    "                                  \"People saw 0 cars (unique)\": \"Unavailable\", \n",
    "                                  \"People saw +1 cars (unique)\": \"Available\"})\n",
    "drivers_and_users.head()"
   ]
  },
  {
   "cell_type": "code",
   "execution_count": null,
   "id": "821007e1",
   "metadata": {},
   "outputs": [],
   "source": [
    "drivers_and_users['Date'] = pd.to_datetime(drivers_and_users['Date'])\n",
    "drivers_and_users['Dates'] = drivers_and_users['Date'].dt.strftime('%Y-%m-%d')\n",
    "drivers_and_users['Time'] = drivers_and_users['Date'].dt.strftime('%H')\n",
    "drivers_and_users['Week_Number'] = drivers_and_users['Date'].dt.week\n",
    "drivers_and_users['Week_Name'] = drivers_and_users['Date'].dt.day_name()"
   ]
  },
  {
   "cell_type": "code",
   "execution_count": null,
   "id": "17281183",
   "metadata": {},
   "outputs": [],
   "source": [
    "#checking for null values column wise\n",
    "drivers_and_users.isnull().sum()"
   ]
  },
  {
   "cell_type": "code",
   "execution_count": null,
   "id": "8135b9c5",
   "metadata": {},
   "outputs": [],
   "source": [
    "#Checking null value percetage in each column\n",
    "round(100*(drivers_and_users.isnull().sum()/len(drivers_and_users.index)), 2)"
   ]
  },
  {
   "cell_type": "code",
   "execution_count": null,
   "id": "6c2fb53d",
   "metadata": {},
   "outputs": [],
   "source": [
    "drivers_and_users.describe().round(1)"
   ]
  },
  {
   "cell_type": "code",
   "execution_count": null,
   "id": "faf776aa",
   "metadata": {
    "scrolled": true
   },
   "outputs": [],
   "source": [
    "drivers_and_users.head()"
   ]
  },
  {
   "cell_type": "code",
   "execution_count": null,
   "id": "72e874d5",
   "metadata": {},
   "outputs": [],
   "source": [
    "# Group by day of week and time\n",
    "columns = {'Demand':'mean', 'Online':'mean', \n",
    "           'Unavailable':'mean', 'Available':'mean', \n",
    "           'Has_booking': 'mean', 'Waiting_for_booking':'mean', 'Busy':'mean','Finished_Rides':'mean'}\n",
    "groupby_time_drivers_and_users = drivers_and_users.groupby(['Week_Name','Time'], as_index = False).agg(columns)\n",
    "groupby_time_drivers_and_users['Week_Name'] = pd.Categorical(groupby_time_drivers_and_users['Week_Name'], categories=\n",
    "    ['Monday','Tuesday','Wednesday','Thursday','Friday','Saturday', 'Sunday'],\n",
    "    ordered=True)\n",
    "groupby_time_drivers_and_users['RPH_by_time'] = (groupby_time_drivers_and_users.Finished_Rides/groupby_time_drivers_and_users.Online).round(2)\n",
    "groupby_time_drivers_and_users['HRA_by_time'] = (groupby_time_drivers_and_users.Online/groupby_time_drivers_and_users.Demand).round(2)\n",
    "groupby_time_drivers_and_users['Conversion'] = (groupby_time_drivers_and_users.Finished_Rides/groupby_time_drivers_and_users.Available).round(2)\n",
    "groupby_time_drivers_and_users['Coverage_Ratio_by_time'] = (groupby_time_drivers_and_users.Available/(groupby_time_drivers_and_users.Available+groupby_time_drivers_and_users.Unavailable)).round(2)\n",
    "\n",
    "groupby_time_drivers_and_users.head()"
   ]
  },
  {
   "cell_type": "markdown",
   "id": "a79c6cb1",
   "metadata": {},
   "source": [
    "## Data Analysis"
   ]
  },
  {
   "cell_type": "markdown",
   "id": "5794f734",
   "metadata": {},
   "source": [
    "### 1. Show which 36 hours in a week are most undersupplied. Show/describe your decision based on sample data."
   ]
  },
  {
   "cell_type": "code",
   "execution_count": null,
   "id": "d6815e35",
   "metadata": {},
   "outputs": [],
   "source": [
    "groupby_time_drivers_and_users['Supply'] = (groupby_time_drivers_and_users.Unavailable + \n",
    "                                            groupby_time_drivers_and_users.Available)\n",
    "groupby_time_drivers_and_users['SD_difference'] = (groupby_time_drivers_and_users.Supply - \n",
    "                                                   groupby_time_drivers_and_users.Demand)\n",
    "groupby_time_drivers_and_users.head()"
   ]
  },
  {
   "cell_type": "code",
   "execution_count": null,
   "id": "ad18da39",
   "metadata": {},
   "outputs": [],
   "source": [
    "# 36 hours in a week are most undersupplied by Unavailable\n",
    "hours_36 = groupby_time_drivers_and_users.sort_values(by=['Unavailable'], ascending=False)\n",
    "hours_36.head(37)"
   ]
  },
  {
   "cell_type": "markdown",
   "id": "08df0e5c",
   "metadata": {},
   "source": [
    "### 2. 24-hour curve of average supply and demand (to illustrate match/mismatch)."
   ]
  },
  {
   "cell_type": "code",
   "execution_count": null,
   "id": "ea88fc06",
   "metadata": {},
   "outputs": [],
   "source": [
    "columns = {'Demand':'mean', 'Supply':'mean'}\n",
    "groupby_day_drivers_and_users = (groupby_time_drivers_and_users.\n",
    "                                 groupby(['Time'], as_index = False).\n",
    "                                 agg(columns).round(1))\n",
    "groupby_day_drivers_and_users"
   ]
  },
  {
   "cell_type": "code",
   "execution_count": null,
   "id": "f0a54776",
   "metadata": {
    "scrolled": true
   },
   "outputs": [],
   "source": [
    "# Illustration match/mismatch supply and demand\n",
    "plt.plot(groupby_day_drivers_and_users['Time'], \n",
    "         groupby_day_drivers_and_users['Demand'], \n",
    "         color = 'orange', label = 'Demand');\n",
    "plt.plot(groupby_day_drivers_and_users['Time'], \n",
    "         groupby_day_drivers_and_users['Supply'], \n",
    "         color = 'blue', label = 'Supply');\n",
    "plt.xlabel('Time');\n",
    "plt.ylabel('Quantity');\n",
    "plt.title('24-hour curve of average supply and demand')\n",
    "plt.legend();"
   ]
  },
  {
   "cell_type": "markdown",
   "id": "ff3c1916",
   "metadata": {},
   "source": [
    "There is a big lack of drivers from 5-6 am, in the afternoon from 10-17 and after 20 o'clock."
   ]
  },
  {
   "cell_type": "markdown",
   "id": "11347579",
   "metadata": {},
   "source": [
    "### 3. Visualisation of hours where we lack supply during a weekly period. This one we can send to drivers to show when to online for extra hours."
   ]
  },
  {
   "cell_type": "code",
   "execution_count": null,
   "id": "476d1df5",
   "metadata": {},
   "outputs": [],
   "source": [
    "groupby_time_drivers_and_users['Week_name_time'] = (groupby_time_drivers_and_users.Week_Name.astype(str) + \" \" + \n",
    "                                                    groupby_time_drivers_and_users.Time)\n",
    "groupby_time_drivers_and_users"
   ]
  },
  {
   "cell_type": "code",
   "execution_count": null,
   "id": "3066af09",
   "metadata": {},
   "outputs": [],
   "source": [
    "columns = {'SD_difference':'mean'}\n",
    "groupby_day_drivers_and_users = (groupby_time_drivers_and_users.\n",
    "                                 groupby(['Week_name_time'], as_index = False).\n",
    "                                 agg(columns).round(1))\n",
    "\n",
    "lack_supply = groupby_day_drivers_and_users[groupby_day_drivers_and_users[\"SD_difference\"] < 0]\n",
    "lack_supply.head()"
   ]
  },
  {
   "cell_type": "code",
   "execution_count": null,
   "id": "d298e714",
   "metadata": {},
   "outputs": [],
   "source": [
    "sns.set(rc={'figure.figsize':(30,5)})\n",
    "ax = sns.barplot(x=\"Week_name_time\", y=\"SD_difference\", data=lack_supply)\n",
    "ax.tick_params(axis='x', rotation=90)\n",
    "ax.set_xlabel(\"Day of the week by time\", fontsize = 12)\n",
    "ax.set_ylabel(\"Number of unavailable cars\", fontsize = 12)\n",
    "ax.set_title('Lack supply during', fontsize = 16)\n"
   ]
  },
  {
   "cell_type": "markdown",
   "id": "75fec8b8",
   "metadata": {},
   "source": [
    "### 4. Estimate number of hours needed to ensure we have a high Coverage Ratio during most peak hours."
   ]
  },
  {
   "cell_type": "code",
   "execution_count": null,
   "id": "7b2c82bd",
   "metadata": {},
   "outputs": [],
   "source": [
    "groupby_time_drivers_and_users.head()"
   ]
  },
  {
   "cell_type": "code",
   "execution_count": null,
   "id": "1b6058a4",
   "metadata": {},
   "outputs": [],
   "source": [
    "sns.set(rc={'figure.figsize':(20,5)})\n",
    "ax = sns.boxplot(x=\"Week_Name\", y=\"Coverage_Ratio_by_time\", data=groupby_time_drivers_and_users)\n",
    "ax.tick_params(axis='x', rotation=90)\n"
   ]
  },
  {
   "cell_type": "code",
   "execution_count": null,
   "id": "31f6f127",
   "metadata": {},
   "outputs": [],
   "source": [
    "ax = sns.boxplot(x=\"Week_Number\", y=\"Demand\", data=drivers_and_users)"
   ]
  },
  {
   "cell_type": "code",
   "execution_count": null,
   "id": "960d0197",
   "metadata": {},
   "outputs": [],
   "source": [
    "ax = sns.boxplot(x=\"Time\", y=\"Demand\", data=drivers_and_users)"
   ]
  },
  {
   "cell_type": "code",
   "execution_count": null,
   "id": "952af93f",
   "metadata": {
    "scrolled": true
   },
   "outputs": [],
   "source": [
    "ax = sns.boxplot(x=\"Time\", y=\"Unavailable\", data=drivers_and_users)"
   ]
  },
  {
   "cell_type": "code",
   "execution_count": null,
   "id": "2cf731d4",
   "metadata": {
    "scrolled": true
   },
   "outputs": [],
   "source": [
    "groupby_time_drivers_and_users['Unavailable'].hist()"
   ]
  },
  {
   "cell_type": "code",
   "execution_count": null,
   "id": "f136f9cb",
   "metadata": {},
   "outputs": [],
   "source": [
    "groupby_time_drivers_and_users['Finished_Rides'].hist()"
   ]
  },
  {
   "cell_type": "code",
   "execution_count": null,
   "id": "1b0a3c0e",
   "metadata": {},
   "outputs": [],
   "source": [
    "sns.heatmap(groupby_time_drivers_and_users.corr())"
   ]
  },
  {
   "cell_type": "markdown",
   "id": "811488e6",
   "metadata": {},
   "source": [
    "### 5. Calculate levels of guaranteed hourly earnings we can offer to drivers during 36 weekly hours with highest demand without losing money + how much extra hours we want to get to capture missed demand.\n",
    "- Assume that Finished Rides have an average value of €10 (80% goes to driver, 20% is our revenue).\n",
    "- Assume the same level of demand with increased supply, base it on RPH over 3 hour periods, but with increased supply.\n",
    "- Assume that with extra hours we will capture “missed coverage” or people attributed to “People saw 0 cars” in demand data.\n"
   ]
  },
  {
   "cell_type": "code",
   "execution_count": null,
   "id": "53de2aca",
   "metadata": {
    "scrolled": true
   },
   "outputs": [],
   "source": [
    "hours_36.head(37)"
   ]
  },
  {
   "cell_type": "code",
   "execution_count": null,
   "id": "b5edc1ea",
   "metadata": {},
   "outputs": [],
   "source": [
    "hours_36.describe().round(2)"
   ]
  },
  {
   "cell_type": "code",
   "execution_count": null,
   "id": "0387ca91",
   "metadata": {
    "scrolled": true
   },
   "outputs": [],
   "source": [
    "value = 10\n",
    "driver_share = 0.8\n",
    "RPH_by_time_75 = hours_36[\"RPH_by_time\"].quantile(0.75)\n",
    "hours_36['Potential'] = (hours_36.Unavailable * hours_36.Conversion).round(2)\n",
    "hours_36['Earn'] = hours_36.RPH_by_time * value * driver_share\n",
    "hours_36['Additional_hours'] = (hours_36.Potential/RPH_by_time_75).round(2)\n",
    "\n",
    "hours_36.head(37)"
   ]
  },
  {
   "cell_type": "code",
   "execution_count": null,
   "id": "abd6fb84",
   "metadata": {},
   "outputs": [],
   "source": [
    "hours_36.describe()"
   ]
  },
  {
   "cell_type": "markdown",
   "id": "67b203b3",
   "metadata": {},
   "source": [
    "### Conclusion"
   ]
  },
  {
   "cell_type": "markdown",
   "id": "e28c7e14",
   "metadata": {},
   "source": [
    "Questions for which I need answers.\n",
    "1. What is the supply to demand dynamic and whether they match?\n",
    "2. Where are the hours of oversupply? Can we shift some of them to undersupply hours?"
   ]
  }
 ],
 "metadata": {
  "kernelspec": {
   "display_name": "Python 3 (ipykernel)",
   "language": "python",
   "name": "python3"
  },
  "language_info": {
   "codemirror_mode": {
    "name": "ipython",
    "version": 3
   },
   "file_extension": ".py",
   "mimetype": "text/x-python",
   "name": "python",
   "nbconvert_exporter": "python",
   "pygments_lexer": "ipython3",
   "version": "3.9.12"
  }
 },
 "nbformat": 4,
 "nbformat_minor": 5
}
